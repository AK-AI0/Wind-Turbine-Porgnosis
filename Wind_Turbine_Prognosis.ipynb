{
  "nbformat": 4,
  "nbformat_minor": 0,
  "metadata": {
    "colab": {
      "provenance": []
    },
    "kernelspec": {
      "name": "python3",
      "display_name": "Python 3"
    },
    "language_info": {
      "name": "python"
    },
    "accelerator": "GPU"
  },
  "cells": [
    {
      "cell_type": "markdown",
      "metadata": {
        "id": "BiwU4k-fGjih"
      },
      "source": [
        "# Wind Turbine Prognosis"
      ]
    },
    {
      "cell_type": "markdown",
      "metadata": {
        "id": "O6B5-fp-p7GS"
      },
      "source": [
        "## Importing the Libraries\n"
      ]
    },
    {
      "cell_type": "code",
      "metadata": {
        "id": "MOeLJLcqM9nb"
      },
      "source": [
        "import numpy as np\n",
        "import matplotlib.pyplot as plt\n",
        "from scipy.io import loadmat\n",
        "from scipy.signal import stft\n",
        "from scipy.stats import kurtosis\n",
        "from sklearn.metrics import accuracy_score, confusion_matrix, classification_report\n",
        "from sklearn.model_selection import train_test_split\n",
        "\n",
        "from tensorflow.keras.models import *\n",
        "from tensorflow.keras.layers import *\n",
        "from tensorflow.keras.utils import *"
      ],
      "execution_count": null,
      "outputs": []
    },
    {
      "cell_type": "markdown",
      "metadata": {
        "id": "WZhF8AlRqje_"
      },
      "source": [
        "## Importing the Data"
      ]
    },
    {
      "cell_type": "code",
      "metadata": {
        "colab": {
          "base_uri": "https://localhost:8080/"
        },
        "id": "YHNsm9Z0GWHq",
        "outputId": "9004d17d-5ce0-4dda-aa0b-9f989c204796"
      },
      "source": [
        "from google.colab import drive\n",
        "drive.mount('/content/drive')"
      ],
      "execution_count": null,
      "outputs": [
        {
          "output_type": "stream",
          "name": "stdout",
          "text": [
            "Drive already mounted at /content/drive; to attempt to forcibly remount, call drive.mount(\"/content/drive\", force_remount=True).\n"
          ]
        }
      ]
    },
    {
      "cell_type": "markdown",
      "metadata": {
        "id": "M32Wu9Fq32aP"
      },
      "source": [
        "35 Samples of Medium Bearing Life Expectancy - Class: 0\n",
        "\n",
        "15 Samples of Short Bearing Life Expectancy - Class: 1"
      ]
    },
    {
      "cell_type": "code",
      "metadata": {
        "id": "HgIVkKqotueM"
      },
      "source": [
        "df0 = [] # List to Store the Data (Class 0)\n",
        "df1 = [] # List to Store the Data (Class 1)"
      ],
      "execution_count": null,
      "outputs": []
    },
    {
      "cell_type": "code",
      "metadata": {
        "id": "FrEDmMWDuDSE"
      },
      "source": [
        "# Looping over All Class 0 Samples\n",
        "for i in range(35):\n",
        "  df0.append(loadmat('/content/drive/MyDrive/data_DL_P/Class_0/'+ str(i+1)+'.mat')['vibration'].flatten())\n",
        "df0 = np.asarray(df0) "
      ],
      "execution_count": null,
      "outputs": []
    },
    {
      "cell_type": "code",
      "metadata": {
        "id": "GBXPXw2y5TBJ"
      },
      "source": [
        "# Looping over All Class 1 Samples\n",
        "for i in range(15):\n",
        "  df1.append(loadmat('/content/drive/MyDrive/data_DL_P/Class_1/'+ str(i+1)+'.mat')['vibration'].flatten())\n",
        "df1 = np.asarray(df1) "
      ],
      "execution_count": null,
      "outputs": []
    },
    {
      "cell_type": "markdown",
      "metadata": {
        "id": "R7qpvtaj-GN2"
      },
      "source": [
        "## Computing the Kurtosis Spectral Content"
      ]
    },
    {
      "cell_type": "code",
      "metadata": {
        "id": "0tmWj3ST-Z_d"
      },
      "source": [
        "f = [] # Storing the Sample Frequencies\n",
        "fft = [] # Storing the stft Values\n",
        "wnd = 127 # Length of Segment required for evaluating stft\n",
        "fs = 97656 # Sampling Frequency (Hz)"
      ],
      "execution_count": null,
      "outputs": []
    },
    {
      "cell_type": "code",
      "source": [
        "freq_cont = []"
      ],
      "metadata": {
        "id": "c3TtLlt8XPR_"
      },
      "execution_count": null,
      "outputs": []
    },
    {
      "cell_type": "code",
      "metadata": {
        "id": "1wPdSiQG-F9t"
      },
      "source": [
        "for i in range(35):\n",
        "    u,v,w = stft(df0[i],fs,nperseg = wnd,noverlap = int(0.8 * wnd),nfft = int(2.0 * wnd))\n",
        "    f.append(u)\n",
        "    fft.append(kurtosis(np.abs(w),fisher = False,axis = 1))\n",
        "f = np.asarray(f)\n",
        "fft = np.asarray(fft)"
      ],
      "execution_count": null,
      "outputs": []
    },
    {
      "cell_type": "code",
      "metadata": {
        "id": "dP0A2bboEW0a"
      },
      "source": [
        "f1 = [] \n",
        "fft1 = []"
      ],
      "execution_count": null,
      "outputs": []
    },
    {
      "cell_type": "code",
      "metadata": {
        "id": "YNVharrlDW3c"
      },
      "source": [
        "for i in range(df1.shape[0]):\n",
        "    u,v,w = stft(df0[i],fs,nperseg = wnd,noverlap = int(0.8 * wnd),nfft = int(2.0 * wnd))\n",
        "    f1.append(u)\n",
        "    fft1.append(kurtosis(np.abs(w),fisher = False,axis = 1))\n",
        "f1 = np.asarray(f1)\n",
        "fft1 = np.asarray(fft1)"
      ],
      "execution_count": null,
      "outputs": []
    },
    {
      "cell_type": "markdown",
      "metadata": {
        "id": "8XsXX6x8BFTG"
      },
      "source": [
        "Further Processing the fft values"
      ]
    },
    {
      "cell_type": "code",
      "metadata": {
        "id": "bIwivpzwA-AD"
      },
      "source": [
        "fftn = (fft - fft.min()) / (fft.max() - fft.min())\n",
        "fftn = np.asarray(fftn)"
      ],
      "execution_count": null,
      "outputs": []
    },
    {
      "cell_type": "code",
      "metadata": {
        "id": "SFQ2chVmEkkE"
      },
      "source": [
        "fftn1 = (fft1 - fft1.min()) / (fft1.max() - fft1.min())\n",
        "fftn1 = np.asarray(fftn1)"
      ],
      "execution_count": null,
      "outputs": []
    },
    {
      "cell_type": "code",
      "metadata": {
        "id": "G02mQW8zEofT"
      },
      "source": [
        "X = np.zeros((50,128)) # Input Variable"
      ],
      "execution_count": null,
      "outputs": []
    },
    {
      "cell_type": "code",
      "metadata": {
        "id": "7gmdm4YAEvFJ"
      },
      "source": [
        "X[0:35][:] = fftn"
      ],
      "execution_count": null,
      "outputs": []
    },
    {
      "cell_type": "code",
      "metadata": {
        "id": "kcxgddnfE-wh"
      },
      "source": [
        "X[35:50][:] = fftn1"
      ],
      "execution_count": null,
      "outputs": []
    },
    {
      "cell_type": "markdown",
      "metadata": {
        "id": "bgpqQyT6Bbbj"
      },
      "source": [
        "## Creating input and output labels for Training the 1D CNN"
      ]
    },
    {
      "cell_type": "code",
      "metadata": {
        "id": "VoYkLSBaBbHk"
      },
      "source": [
        "X = X.reshape(-1,f.shape[1],1) \n",
        "y = np.zeros(50,dtype = int) # True Output Labels\n",
        "y[-15:] = 1\n",
        "label = to_categorical(y)"
      ],
      "execution_count": null,
      "outputs": []
    },
    {
      "cell_type": "markdown",
      "metadata": {
        "id": "feEcSswAIR7R"
      },
      "source": [
        "## Defining the Model"
      ]
    },
    {
      "cell_type": "code",
      "metadata": {
        "id": "oZw2RDEF2Fao"
      },
      "source": [
        "def create_model(dropout_rate):\n",
        "  mdl = Sequential()\n",
        "  mdl.add(Conv1D(100,6,activation = 'relu', input_shape = (128,1)))\n",
        "  mdl.add(Conv1D(100,6,activation = 'relu'))\n",
        "  mdl.add(MaxPooling1D(3))\n",
        "  mdl.add(Conv1D(160,6,activation = 'relu'))\n",
        "  mdl.add(Conv1D(160,6,activation = 'relu'))\n",
        "  mdl.add(GlobalAveragePooling1D())\n",
        "  mdl.add(Dropout(dropout_rate))\n",
        "  mdl.add(Dense(2,activation = 'softmax'))\n",
        "  mdl.compile(loss = 'categorical_crossentropy', optimizer='Adagrad', metrics=['accuracy'])\n",
        "  return mdl"
      ],
      "execution_count": null,
      "outputs": []
    },
    {
      "cell_type": "markdown",
      "source": [
        "**Hyperparameter Tuning**"
      ],
      "metadata": {
        "id": "YtFj0VxsJ-wp"
      }
    },
    {
      "cell_type": "markdown",
      "source": [
        "1. Epochs and Optimization Algorithm"
      ],
      "metadata": {
        "id": "MAt1RhfMKDkK"
      }
    },
    {
      "cell_type": "code",
      "source": [
        "Xtrain,Xtest,ytrain,ytest = train_test_split(X,label,\n",
        "                                             random_state = 1,\n",
        "                                             test_size = 0.40)"
      ],
      "metadata": {
        "id": "86_IWEbsIEeU"
      },
      "execution_count": null,
      "outputs": []
    },
    {
      "cell_type": "code",
      "source": [
        "cw = {0: 5.0,1:75.0}"
      ],
      "metadata": {
        "id": "4U3oCPkPPmUH"
      },
      "execution_count": null,
      "outputs": []
    },
    {
      "cell_type": "code",
      "source": [
        "!pip install scikeras[tensorflow]"
      ],
      "metadata": {
        "id": "6H2i9ZPwL44p"
      },
      "execution_count": null,
      "outputs": []
    },
    {
      "cell_type": "code",
      "source": [
        "from sklearn.model_selection import GridSearchCV\n",
        "from scikeras.wrappers import KerasClassifier"
      ],
      "metadata": {
        "id": "WlgLceUgKCmB"
      },
      "execution_count": null,
      "outputs": []
    },
    {
      "cell_type": "code",
      "source": [
        "model = KerasClassifier(model=create_model,batch_size=30,verbose=0)\n",
        "epochs = [100, 500, 1000]\n",
        "optimizer = ['SGD','RMSprop', 'Adagrad','Adam']\n",
        "param_grid = dict(optimizer=optimizer, epochs=epochs)\n",
        "grid = GridSearchCV(estimator=model, param_grid=param_grid, n_jobs=-1, cv=3)\n",
        "grid_result = grid.fit(Xtrain,ytrain,class_weight=cw)\n",
        "# summarize results\n",
        "print(\"Best: %f using %s\" % (grid_result.best_score_, grid_result.best_params_))\n",
        "means = grid_result.cv_results_['mean_test_score']\n",
        "stds = grid_result.cv_results_['std_test_score']\n",
        "params = grid_result.cv_results_['params']\n",
        "for mean, stdev, param in zip(means, stds, params):\n",
        "    print(\"%f (%f) with: %r\" % (mean, stdev, param))"
      ],
      "metadata": {
        "id": "ZBKtq49xKJ6p"
      },
      "execution_count": null,
      "outputs": []
    },
    {
      "cell_type": "code",
      "source": [
        "learn_rate = [0.01, 0.05, 0.1]\n",
        "dropout_rate = [0.5, 0.6, 0.7]\n",
        "model = KerasClassifier(model=create_model,batch_size=30,loss = 'categorical_crossentropy',epochs=500,verbose=0)\n",
        "param_grid = dict(optimizer__learning_rate=learn_rate, model__dropout_rate=dropout_rate)\n",
        "grid = GridSearchCV(estimator=model, param_grid=param_grid, n_jobs=-1, cv=3)\n",
        "grid_result = grid.fit(Xtrain,ytrain,class_weight=cw)\n",
        "# summarize results\n",
        "print(\"Best: %f using %s\" % (grid_result.best_score_, grid_result.best_params_))\n",
        "means = grid_result.cv_results_['mean_test_score']\n",
        "stds = grid_result.cv_results_['std_test_score']\n",
        "params = grid_result.cv_results_['params']\n",
        "for mean, stdev, param in zip(means, stds, params):\n",
        "    print(\"%f (%f) with: %r\" % (mean, stdev, param))"
      ],
      "metadata": {
        "id": "vzrHeEZ4N0SI"
      },
      "execution_count": null,
      "outputs": []
    },
    {
      "cell_type": "code",
      "metadata": {
        "id": "GGNkzRbOJPTF"
      },
      "source": [
        "mdl = create_model(dropout_rate=0.5)\n",
        "mdl.compile(loss = 'categorical_crossentropy',\n",
        "            optimizer = 'Adagrad',metrics = ['accuracy'])"
      ],
      "execution_count": null,
      "outputs": []
    },
    {
      "cell_type": "code",
      "source": [
        "Xtest.shape"
      ],
      "metadata": {
        "colab": {
          "base_uri": "https://localhost:8080/"
        },
        "id": "WsExINjCIFNq",
        "outputId": "73292608-f2ea-4077-94b6-241569c41862"
      },
      "execution_count": null,
      "outputs": [
        {
          "output_type": "execute_result",
          "data": {
            "text/plain": [
              "(20, 128, 1)"
            ]
          },
          "metadata": {},
          "execution_count": 45
        }
      ]
    },
    {
      "cell_type": "markdown",
      "metadata": {
        "id": "lT7lYgwQIT3r"
      },
      "source": [
        "## Training"
      ]
    },
    {
      "cell_type": "code",
      "metadata": {
        "id": "1XN9H_IxIRbC"
      },
      "source": [
        "batch,epoch = 30,500\n",
        "\n",
        "op = mdl.fit(Xtrain,ytrain,batch_size = batch,\n",
        "               epochs = epoch,validation_split = 0.2,verbose = 0,\n",
        "               class_weight = cw)"
      ],
      "execution_count": null,
      "outputs": []
    },
    {
      "cell_type": "markdown",
      "metadata": {
        "id": "eBDd6Vs1KDWl"
      },
      "source": [
        "## Testing"
      ]
    },
    {
      "cell_type": "code",
      "metadata": {
        "id": "tbz91qtcJ8cM"
      },
      "source": [
        "mdl.evaluate(Xtest,ytest,verbose = 2)"
      ],
      "execution_count": null,
      "outputs": []
    },
    {
      "cell_type": "markdown",
      "metadata": {
        "id": "9vzTITPxLBZO"
      },
      "source": [
        "## Other Metrics"
      ]
    },
    {
      "cell_type": "code",
      "metadata": {
        "id": "zVxN-lusMLdK"
      },
      "source": [
        "pred_op = []\n",
        "actual_op = []"
      ],
      "execution_count": null,
      "outputs": []
    },
    {
      "cell_type": "code",
      "metadata": {
        "id": "thJxSll-iiQp",
        "colab": {
          "base_uri": "https://localhost:8080/"
        },
        "outputId": "d96b39e8-7727-4c87-9fcd-f824e40eaf25"
      },
      "source": [
        "pred_op = mdl.predict(Xtest)"
      ],
      "execution_count": null,
      "outputs": [
        {
          "output_type": "stream",
          "name": "stdout",
          "text": [
            "1/1 [==============================] - 0s 105ms/step\n"
          ]
        }
      ]
    },
    {
      "cell_type": "code",
      "source": [
        "pred_op.shape"
      ],
      "metadata": {
        "colab": {
          "base_uri": "https://localhost:8080/"
        },
        "id": "jw8oR6p4j5DK",
        "outputId": "0fa3b5b1-a3a7-4e80-aebb-4728f182a8a6"
      },
      "execution_count": null,
      "outputs": [
        {
          "output_type": "execute_result",
          "data": {
            "text/plain": [
              "(20, 2)"
            ]
          },
          "metadata": {},
          "execution_count": 77
        }
      ]
    },
    {
      "cell_type": "code",
      "source": [
        "actual_op = np.argmax(ytest,axis=1)"
      ],
      "metadata": {
        "id": "a7OfR1cHkchZ"
      },
      "execution_count": null,
      "outputs": []
    },
    {
      "cell_type": "code",
      "source": [
        "pred_op = np.argmax(pred_op,axis=1)"
      ],
      "metadata": {
        "id": "LtGmVd3rkfdB"
      },
      "execution_count": null,
      "outputs": []
    },
    {
      "cell_type": "code",
      "source": [
        "from sklearn.metrics import confusion_matrix"
      ],
      "metadata": {
        "id": "plcjtTNvmRyZ"
      },
      "execution_count": null,
      "outputs": []
    },
    {
      "cell_type": "code",
      "source": [
        "confusion_matrix(actual_op,pred_op)"
      ],
      "metadata": {
        "id": "Wivn1tyNmDW8"
      },
      "execution_count": null,
      "outputs": []
    }
  ]
}